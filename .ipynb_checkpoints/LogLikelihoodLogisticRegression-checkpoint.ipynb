{
 "cells": [
  {
   "cell_type": "markdown",
   "metadata": {},
   "source": [
    "# Classification of MNIST digits using logistic regression\n",
    "**_Jake Daly | CSE 250A_**\n",
    "\n",
    "In this problem, we will classify some MNIST hand written digits (which have been mapped to an 8 pixel x 8 pixel image size) by training a logistic regression model. \n",
    "\n",
    "The network that we will use to probabilistically model whether a given image is a \"3\" or a \"5\" is a naive Bayes model with a single child node, and sixty-four parent nodes (each with a single connection directed at the child node). The parent nodes of this network represent each of sixty-four pixels in the images that we will use to train the network. The lone child node will be the binary output variable over {0, 1}, with a 0 representing a 3, and 1 representing a 5. The probability equation represented by this network is given by:\n",
    "\n",
    "![SegmentLocal](ProbYgivX.gif \"segment\")\n",
    "\n",
    "After we have learned some weights <code>w</code>, we can take the inner product of these weights with a data vector (a \"3\" or a \"5\"), and push this value through the sigmoid function (so that we obtain a valid probability over [0, 1]. Intuitively, when the inner product of our weights and a given image produces a large (positive) value, the sigmoid will activate and yield a probability of close to 1. When this inner product returns a small (negative) value, the sigmoid will not activate, and the probability that Y = 1 given this X will be close to 0. Thus, when a learned weight is more negative it will be suggestive that the node is a 3 when it receives an input of 1. Conversely, when a learned weight is a larger positive value, the sigmoid (when x=1) will yield a value closer to 1, suggesting that the x vector is more likely a 5 (solely based off of this single node)\n",
    "\n",
    "We will use the *log* *likelihood* probability to measure Y given X. To compute this as a function over both values of Y, we will need to marginilize over both values of Y. Because each sample is independently and identically distributed (IID), we can write this as:\n",
    "\n",
    "![SegmentLocal](LogProdEqSum.gif \"segment\")\n",
    "\n",
    "\n",
    "Which can be written as\n",
    "\n",
    "![SegmentLocal](LogLik.gif \"segment\")\n",
    "\n",
    "taking advantage of the fact that Y is a binary variable over {0, 1}.\n",
    "\n",
    "This is the log likelihood that we will apply gradient ascent to in order to train our algorithm (optimize <code>w</code>). \n",
    "\n",
    "We will begin be importing numpy and matplotlib utilities, storing our data, and getting a visualization of what this data represents."
   ]
  },
  {
   "cell_type": "code",
   "execution_count": 16,
   "metadata": {},
   "outputs": [
    {
     "name": "stdout",
     "output_type": "stream",
     "text": [
      "\n",
      "Data sizes:\n",
      "Three data:\n",
      "\tT: 700 | Vector Length: 64\n",
      "Five data:\n",
      "\tT: 700 | Vector Length: 64\n",
      "\n",
      "\n",
      "Examples of some data:\n",
      "\n"
     ]
    },
    {
     "data": {
      "image/png": "[encoded data removed]",
      "text/plain": [
       "<Figure size 432x288 with 10 Axes>"
      ]
     },
     "metadata": {
      "needs_background": "light"
     },
     "output_type": "display_data"
    }
   ],
   "source": [
    "import numpy as np\n",
    "import matplotlib.pyplot as plt\n",
    "\n",
    "# Load the data from each file as ndarray (int)\n",
    "with open(\"train3_oddYr.txt\") as three_data_file:\n",
    "    three_data = np.loadtxt(three_data_file, dtype='int')\n",
    "    \n",
    "with open(\"train5_oddYr.txt\") as five_data_file:\n",
    "    five_data = np.loadtxt(five_data_file, dtype='int')\n",
    "\n",
    "print(\"\\nData sizes:\")\n",
    "print(\"Three data:\")\n",
    "print(\"\\tT: %s | Vector Length: %s\"%(np.shape(three_data)[0], np.shape(three_data)[1]))\n",
    "print(\"Five data:\")\n",
    "print(\"\\tT: %s | Vector Length: %s\\n\\n\"%(np.shape(five_data)[0], np.shape(five_data)[1]))\n",
    "\n",
    "# Plot five members of each data set for sanity check\n",
    "print(\"Examples of some data:\\n\")\n",
    "fig = plt.figure()\n",
    "for i in range(10):\n",
    "    if i < 5:\n",
    "        image = three_data[i,:].reshape((8,8))\n",
    "        sub = fig.add_subplot(2,5,i+1)\n",
    "        plt.axis('off')\n",
    "        sub.imshow(image)\n",
    "    else:\n",
    "        image = five_data[i,:].reshape((8,8))\n",
    "        sub = fig.add_subplot(2,5,i+1)\n",
    "        plt.axis('off')\n",
    "        sub.imshow(image)\n"
   ]
  },
  {
   "cell_type": "markdown",
   "metadata": {},
   "source": [
    "Already in just the first 10 numbers, we see 3's and 5's that are ambiguously represented. Hopefully, if we train our model well enough, it will be able to correctly classify most (but probably not all) of these. \n",
    "\n",
    "# Key functions\n",
    "\n",
    "Below we define a few functions that we will use in our algorithm. \n",
    "- <code>compLogLik(w, x, y)</code>: takes a weight vector, and as many data vectors (x) as desired, and computes the log likelihood that each data vector equals 1.\n",
    "- <code>gradAscent(w, x, y, num_iterations)</code>: Performs gradient ascent on the log likelihood function, by differentiating it with respect to w, and updating w in the direction of the ascent. It will perform the algorithm *num_iterations* times\n",
    "- <code>sigmoid(w, x)</code>: computes the sigmoid of the dot product between w and a single data vector x\n",
    "- <code>dL_dw(w, ith_w, x, y)</code>: computes the gradient of the log likelihood with respect to the *ith_w* weight\n"
   ]
  },
  {
   "cell_type": "code",
   "execution_count": 63,
   "metadata": {},
   "outputs": [],
   "source": [
    "def compLogLik(w, x, y):\n",
    "    # w is weight vector\n",
    "    # x is entire matrix of T data vectors\n",
    "    # y is vector of length T, =0 if three_data or =1 if five_data\n",
    "    sumLogLik = 0\n",
    "    \n",
    "    for i in range(np.shape(x)[0]):\n",
    "        sumLogLik += np.log(sigmoid(w, x[i,:])**(y[i]) * sigmoid(-1*w, x[i,:])**(1-y[i]))\n",
    "    \n",
    "    return sumLogLik\n",
    "\n",
    "def gradAscent(w, x, y, num_iterations):\n",
    "    \n",
    "    LogLikProgression = []\n",
    "    \n",
    "    LogLikProgression.append(compLogLik(w, x, y))\n",
    "    print(\"Log Likelihood initial: %s\"%(LogLikProgression[0]))\n",
    "    \n",
    "    for i in range(num_iterations):\n",
    "        \n",
    "        derivatives = []\n",
    "\n",
    "        for j in range(len(w)):\n",
    "            derivatives.append(dL_dw(w, j, x, y))\n",
    "        \n",
    "        for k in range(len(w)):\n",
    "            w[k] = w[k] + .2/(np.shape(x)[0]) * derivatives[k]\n",
    "        \n",
    "        LogLikProgression.append(compLogLik(w, x, y))\n",
    "        \n",
    "    return w, LogLikProgression\n",
    "    \n",
    "    \n",
    "def sigmoid(w, x):\n",
    "    # w is the weight vector\n",
    "    # x is a single data vector\n",
    "    w_dot_x = np.dot(w,x)\n",
    "    sigm = 1/(1 + np.exp(-1*w_dot_x))\n",
    "    return sigm\n",
    "\n",
    "def dL_dw(w, ith_w, x, y):\n",
    "    # ith_w is which weight we are taking derivative to \n",
    "    \n",
    "    sum_dL_dw = 0\n",
    "    \n",
    "    for ii in range(len(x)):\n",
    "        sum_dL_dw += x[ii, ith_w] * (y[ii] - sigmoid(w, x[ii, :]))\n",
    "    \n",
    "    return sum_dL_dw\n",
    "    "
   ]
  },
  {
   "cell_type": "markdown",
   "metadata": {},
   "source": [
    "These are all of the functions we need to run the algorithm!\n",
    "\n",
    "# Running the algorithm\n",
    "\n",
    "We can now reformat our *three_data* and *five_data* matrices, and create a corresponding vector of *y*, each entry of which corresponds to the same entry in our *training_data* vector, and is a 0 if the vector comes from the three data set, and a 1 if the vector comes from the 5 data set. \n",
    "\n",
    "We will initialize our weights randomly using a normal distribution. How these are initalized doesn't matter too much, because we will be iteratively updating them as our algorithm converges on the maximum log likelihood.\n",
    "\n",
    "Below, the algorithm is run for 100 iterations, and the convergence of the value of the log likelihood is plotted for each iteration of the algorithm, to show that it is converging as the weights are becoming more and more optimized. \n"
   ]
  },
  {
   "cell_type": "code",
   "execution_count": 66,
   "metadata": {},
   "outputs": [
    {
     "name": "stdout",
     "output_type": "stream",
     "text": [
      "Log Likelihood initial: -2674.931269801083\n"
     ]
    },
    {
     "data": {
      "image/png": "[encoded data removed]",
      "text/plain": [
       "<Figure size 432x288 with 1 Axes>"
      ]
     },
     "metadata": {
      "needs_background": "light"
     },
     "output_type": "display_data"
    }
   ],
   "source": [
    "training_data = np.array([(three_data[i], five_data[i]) for i in range(len(three_data))]).reshape((len(three_data)*2, 64))\n",
    "y = np.array([(0,1) for i in range(len(three_data))]).reshape((len(three_data)*2))\n",
    "w = np.random.randn(np.shape(three_data)[1])\n",
    "\n",
    "W, LOGLIKPROG = gradAscent(w, training_data, y, 100)\n",
    "\n",
    "fig = plt.plot(LOGLIKPROG)\n",
    "\n"
   ]
  },
  {
   "cell_type": "code",
   "execution_count": 74,
   "metadata": {},
   "outputs": [
    {
     "name": "stdout",
     "output_type": "stream",
     "text": [
      "Number of classifications correct: 350/400\n",
      "Accuracy: 0.875\n",
      "Learned weights: \n",
      "[[-2.05093318  0.56552483 -0.48921476 -0.7190121   0.59357329  0.02666997\n",
      "   2.2525402   0.59048552]\n",
      " [-0.68280782  0.95945594 -0.01273241 -0.29001004  1.43672687 -0.16219065\n",
      "   0.68031742 -0.93659212]\n",
      " [ 1.33745048 -0.19797059  1.4169371   0.35883485  0.24693447 -1.2288639\n",
      "  -2.03572699  0.37465784]\n",
      " [-0.06037266 -0.1505419   0.23883401  1.44973183 -1.77659121 -1.25486495\n",
      "  -0.54770351 -0.5302408 ]\n",
      " [ 1.652057    1.35774565 -0.41046041  0.82669373 -1.29629419  0.19091118\n",
      "   1.35482634 -0.54174969]\n",
      " [-0.51655544  0.39524037 -1.34026041  0.3080257  -0.87723574 -1.01451297\n",
      "  -1.13331699  0.18210762]\n",
      " [-1.11763483  1.30009216  0.3213246  -0.10866501  1.64303644 -1.79641991\n",
      "  -0.03580032 -0.08077918]\n",
      " [-0.85536469  2.43709864 -0.77255847  0.37046613 -0.89591672 -0.49895896\n",
      "  -0.75656349  0.29823102]]\n"
     ]
    }
   ],
   "source": [
    "def compProb(w, x):\n",
    "    \n",
    "    probs = []\n",
    "    \n",
    "    for data_vec in range(np.shape(x)[0]):\n",
    "        probs.append(sigmoid(w, x[data_vec,:]))\n",
    "    \n",
    "    return probs\n",
    "    \n",
    "\n",
    "# Load the test data so that we can see how well our algorithm works\n",
    "with open(\"test3_oddYr.txt\") as three_test_data_file:\n",
    "    three_test_data = np.loadtxt(three_test_data_file, dtype='int')\n",
    "    \n",
    "with open(\"test5_oddYr.txt\") as five_test_data_file:\n",
    "    five_test_data = np.loadtxt(five_test_data_file, dtype='int')\n",
    "\n",
    "test_data = np.array([(three_test_data[i], five_test_data[i]) for i in range(len(three_test_data))]).reshape((len(three_test_data)*2, 64))\n",
    "y_test_data = np.array([(0,1) for i in range(len(three_test_data))]).reshape((len(three_test_data)*2))\n",
    "\n",
    "probs = compProb(W, test_data)\n",
    "\n",
    "rounded_probs = [np.around(probs[ij]) for ij in range(len(probs))]\n",
    "\n",
    "correct = [int(c1)&r1 for c1, r1 in zip(rounded_probs, y_test_data)]\n",
    "\n",
    "print(\"Number of classifications correct: %s/%s\"%(np.sum(correct), len(three_test_data)))\n",
    "\n",
    "print(\"Accuracy: %s\"%(np.sum(correct)/len(three_test_data)))\n",
    "\n",
    "print(\"Learned weights: \")\n",
    "print(W.reshape((8,8)))\n"
   ]
  },
  {
   "cell_type": "code",
   "execution_count": null,
   "metadata": {},
   "outputs": [],
   "source": []
  }
 ],
 "metadata": {
  "kernelspec": {
   "display_name": "Python 3",
   "language": "python",
   "name": "python3"
  },
  "language_info": {
   "codemirror_mode": {
    "name": "ipython",
    "version": 3
   },
   "file_extension": ".py",
   "mimetype": "text/x-python",
   "name": "python",
   "nbconvert_exporter": "python",
   "pygments_lexer": "ipython3",
   "version": "3.7.2"
  }
 },
 "nbformat": 4,
 "nbformat_minor": 2
}
